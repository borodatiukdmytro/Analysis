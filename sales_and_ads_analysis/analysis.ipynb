{
 "cells": [
  {
   "cell_type": "code",
   "execution_count": 110,
   "metadata": {},
   "outputs": [],
   "source": [
    "import pandas as pd"
   ]
  },
  {
   "cell_type": "code",
   "execution_count": 111,
   "metadata": {},
   "outputs": [
    {
     "data": {
      "text/html": [
       "<div>\n",
       "<style scoped>\n",
       "    .dataframe tbody tr th:only-of-type {\n",
       "        vertical-align: middle;\n",
       "    }\n",
       "\n",
       "    .dataframe tbody tr th {\n",
       "        vertical-align: top;\n",
       "    }\n",
       "\n",
       "    .dataframe thead th {\n",
       "        text-align: right;\n",
       "    }\n",
       "</style>\n",
       "<table border=\"1\" class=\"dataframe\">\n",
       "  <thead>\n",
       "    <tr style=\"text-align: right;\">\n",
       "      <th></th>\n",
       "      <th>Unnamed: 0</th>\n",
       "      <th>TV Ad Budget ($)</th>\n",
       "      <th>Radio Ad Budget ($)</th>\n",
       "      <th>Newspaper Ad Budget ($)</th>\n",
       "      <th>Sales ($)</th>\n",
       "    </tr>\n",
       "  </thead>\n",
       "  <tbody>\n",
       "    <tr>\n",
       "      <th>0</th>\n",
       "      <td>1</td>\n",
       "      <td>230.1</td>\n",
       "      <td>37.8</td>\n",
       "      <td>69.2</td>\n",
       "      <td>22.1</td>\n",
       "    </tr>\n",
       "    <tr>\n",
       "      <th>1</th>\n",
       "      <td>2</td>\n",
       "      <td>44.5</td>\n",
       "      <td>39.3</td>\n",
       "      <td>45.1</td>\n",
       "      <td>10.4</td>\n",
       "    </tr>\n",
       "    <tr>\n",
       "      <th>2</th>\n",
       "      <td>3</td>\n",
       "      <td>17.2</td>\n",
       "      <td>45.9</td>\n",
       "      <td>69.3</td>\n",
       "      <td>9.3</td>\n",
       "    </tr>\n",
       "    <tr>\n",
       "      <th>3</th>\n",
       "      <td>4</td>\n",
       "      <td>151.5</td>\n",
       "      <td>41.3</td>\n",
       "      <td>58.5</td>\n",
       "      <td>18.5</td>\n",
       "    </tr>\n",
       "    <tr>\n",
       "      <th>4</th>\n",
       "      <td>5</td>\n",
       "      <td>180.8</td>\n",
       "      <td>10.8</td>\n",
       "      <td>58.4</td>\n",
       "      <td>12.9</td>\n",
       "    </tr>\n",
       "  </tbody>\n",
       "</table>\n",
       "</div>"
      ],
      "text/plain": [
       "   Unnamed: 0  TV Ad Budget ($)  Radio Ad Budget ($)  Newspaper Ad Budget ($)  \\\n",
       "0           1             230.1                 37.8                     69.2   \n",
       "1           2              44.5                 39.3                     45.1   \n",
       "2           3              17.2                 45.9                     69.3   \n",
       "3           4             151.5                 41.3                     58.5   \n",
       "4           5             180.8                 10.8                     58.4   \n",
       "\n",
       "   Sales ($)  \n",
       "0       22.1  \n",
       "1       10.4  \n",
       "2        9.3  \n",
       "3       18.5  \n",
       "4       12.9  "
      ]
     },
     "execution_count": 111,
     "metadata": {},
     "output_type": "execute_result"
    }
   ],
   "source": [
    "df_ = pd.read_csv('Advertising Budget and Sales.csv')\n",
    "df = df_.copy()\n",
    "\n",
    "df.head()"
   ]
  },
  {
   "cell_type": "markdown",
   "metadata": {},
   "source": [
    "check data"
   ]
  },
  {
   "cell_type": "code",
   "execution_count": 112,
   "metadata": {},
   "outputs": [
    {
     "name": "stdout",
     "output_type": "stream",
     "text": [
      "<class 'pandas.core.frame.DataFrame'>\n",
      "RangeIndex: 200 entries, 0 to 199\n",
      "Data columns (total 5 columns):\n",
      " #   Column                   Non-Null Count  Dtype  \n",
      "---  ------                   --------------  -----  \n",
      " 0   Unnamed: 0               200 non-null    int64  \n",
      " 1   TV Ad Budget ($)         200 non-null    float64\n",
      " 2   Radio Ad Budget ($)      200 non-null    float64\n",
      " 3   Newspaper Ad Budget ($)  200 non-null    float64\n",
      " 4   Sales ($)                200 non-null    float64\n",
      "dtypes: float64(4), int64(1)\n",
      "memory usage: 7.9 KB\n"
     ]
    }
   ],
   "source": [
    "df.info()"
   ]
  },
  {
   "cell_type": "code",
   "execution_count": 113,
   "metadata": {},
   "outputs": [
    {
     "data": {
      "text/plain": [
       "(200, 5)"
      ]
     },
     "execution_count": 113,
     "metadata": {},
     "output_type": "execute_result"
    }
   ],
   "source": [
    "df.shape"
   ]
  },
  {
   "cell_type": "code",
   "execution_count": 114,
   "metadata": {},
   "outputs": [
    {
     "data": {
      "text/plain": [
       "Unnamed: 0                 0\n",
       "TV Ad Budget ($)           0\n",
       "Radio Ad Budget ($)        0\n",
       "Newspaper Ad Budget ($)    0\n",
       "Sales ($)                  0\n",
       "dtype: int64"
      ]
     },
     "execution_count": 114,
     "metadata": {},
     "output_type": "execute_result"
    }
   ],
   "source": [
    "df.isna().sum()"
   ]
  },
  {
   "cell_type": "code",
   "execution_count": 115,
   "metadata": {},
   "outputs": [
    {
     "data": {
      "text/plain": [
       "Unnamed: 0                 0\n",
       "TV Ad Budget ($)           0\n",
       "Radio Ad Budget ($)        0\n",
       "Newspaper Ad Budget ($)    0\n",
       "Sales ($)                  0\n",
       "dtype: int64"
      ]
     },
     "execution_count": 115,
     "metadata": {},
     "output_type": "execute_result"
    }
   ],
   "source": [
    "df.isnull().sum()"
   ]
  },
  {
   "cell_type": "code",
   "execution_count": 116,
   "metadata": {},
   "outputs": [],
   "source": [
    "df = df.drop(columns= 'Unnamed: 0')"
   ]
  },
  {
   "cell_type": "code",
   "execution_count": 117,
   "metadata": {},
   "outputs": [],
   "source": [
    "df.columns = df.columns.str.replace(' ', '_')"
   ]
  },
  {
   "cell_type": "markdown",
   "metadata": {},
   "source": [
    "ROI calculation"
   ]
  },
  {
   "cell_type": "markdown",
   "metadata": {},
   "source": [
    "it seems like incorrect data, so I decided to increase the Sales by 10 times :) only in not real life scenarios"
   ]
  },
  {
   "cell_type": "code",
   "execution_count": 118,
   "metadata": {},
   "outputs": [],
   "source": [
    "df['Sales_($)'] = df['Sales_($)']*10"
   ]
  },
  {
   "cell_type": "code",
   "execution_count": 119,
   "metadata": {},
   "outputs": [
    {
     "data": {
      "text/html": [
       "<div>\n",
       "<style scoped>\n",
       "    .dataframe tbody tr th:only-of-type {\n",
       "        vertical-align: middle;\n",
       "    }\n",
       "\n",
       "    .dataframe tbody tr th {\n",
       "        vertical-align: top;\n",
       "    }\n",
       "\n",
       "    .dataframe thead th {\n",
       "        text-align: right;\n",
       "    }\n",
       "</style>\n",
       "<table border=\"1\" class=\"dataframe\">\n",
       "  <thead>\n",
       "    <tr style=\"text-align: right;\">\n",
       "      <th></th>\n",
       "      <th>TV_Ad_Budget_($)</th>\n",
       "      <th>Radio_Ad_Budget_($)</th>\n",
       "      <th>Newspaper_Ad_Budget_($)</th>\n",
       "      <th>Sales_($)</th>\n",
       "      <th>Amount_spent</th>\n",
       "      <th>ROI</th>\n",
       "    </tr>\n",
       "  </thead>\n",
       "  <tbody>\n",
       "    <tr>\n",
       "      <th>0</th>\n",
       "      <td>230.1</td>\n",
       "      <td>37.8</td>\n",
       "      <td>69.2</td>\n",
       "      <td>221.0</td>\n",
       "      <td>337.1</td>\n",
       "      <td>-34.440819</td>\n",
       "    </tr>\n",
       "    <tr>\n",
       "      <th>1</th>\n",
       "      <td>44.5</td>\n",
       "      <td>39.3</td>\n",
       "      <td>45.1</td>\n",
       "      <td>104.0</td>\n",
       "      <td>128.9</td>\n",
       "      <td>-19.317300</td>\n",
       "    </tr>\n",
       "    <tr>\n",
       "      <th>2</th>\n",
       "      <td>17.2</td>\n",
       "      <td>45.9</td>\n",
       "      <td>69.3</td>\n",
       "      <td>93.0</td>\n",
       "      <td>132.4</td>\n",
       "      <td>-29.758308</td>\n",
       "    </tr>\n",
       "    <tr>\n",
       "      <th>3</th>\n",
       "      <td>151.5</td>\n",
       "      <td>41.3</td>\n",
       "      <td>58.5</td>\n",
       "      <td>185.0</td>\n",
       "      <td>251.3</td>\n",
       "      <td>-26.382809</td>\n",
       "    </tr>\n",
       "    <tr>\n",
       "      <th>4</th>\n",
       "      <td>180.8</td>\n",
       "      <td>10.8</td>\n",
       "      <td>58.4</td>\n",
       "      <td>129.0</td>\n",
       "      <td>250.0</td>\n",
       "      <td>-48.400000</td>\n",
       "    </tr>\n",
       "  </tbody>\n",
       "</table>\n",
       "</div>"
      ],
      "text/plain": [
       "   TV_Ad_Budget_($)  Radio_Ad_Budget_($)  Newspaper_Ad_Budget_($)  Sales_($)  \\\n",
       "0             230.1                 37.8                     69.2      221.0   \n",
       "1              44.5                 39.3                     45.1      104.0   \n",
       "2              17.2                 45.9                     69.3       93.0   \n",
       "3             151.5                 41.3                     58.5      185.0   \n",
       "4             180.8                 10.8                     58.4      129.0   \n",
       "\n",
       "   Amount_spent        ROI  \n",
       "0         337.1 -34.440819  \n",
       "1         128.9 -19.317300  \n",
       "2         132.4 -29.758308  \n",
       "3         251.3 -26.382809  \n",
       "4         250.0 -48.400000  "
      ]
     },
     "execution_count": 119,
     "metadata": {},
     "output_type": "execute_result"
    }
   ],
   "source": [
    "df['Amount_spent'] = df['TV_Ad_Budget_($)'] + df['Radio_Ad_Budget_($)'] + df['Newspaper_Ad_Budget_($)']\n",
    "\n",
    "df['ROI'] = (df['Sales_($)'] - df['Amount_spent']) / df['Amount_spent']*100\n",
    "\n",
    "df.head()"
   ]
  },
  {
   "cell_type": "markdown",
   "metadata": {},
   "source": [
    "still we have some unpleasant results, but let's imagine we have a really bad company's data and work with it"
   ]
  },
  {
   "cell_type": "markdown",
   "metadata": {},
   "source": [
    "now i plan make four categories for campaigns' ROI: very unprofitable, unprofitable, profitable, highly profitable"
   ]
  },
  {
   "cell_type": "code",
   "execution_count": 120,
   "metadata": {},
   "outputs": [
    {
     "data": {
      "text/html": [
       "<div>\n",
       "<style scoped>\n",
       "    .dataframe tbody tr th:only-of-type {\n",
       "        vertical-align: middle;\n",
       "    }\n",
       "\n",
       "    .dataframe tbody tr th {\n",
       "        vertical-align: top;\n",
       "    }\n",
       "\n",
       "    .dataframe thead th {\n",
       "        text-align: right;\n",
       "    }\n",
       "</style>\n",
       "<table border=\"1\" class=\"dataframe\">\n",
       "  <thead>\n",
       "    <tr style=\"text-align: right;\">\n",
       "      <th></th>\n",
       "      <th>TV_Ad_Budget_($)</th>\n",
       "      <th>Radio_Ad_Budget_($)</th>\n",
       "      <th>Newspaper_Ad_Budget_($)</th>\n",
       "      <th>Sales_($)</th>\n",
       "      <th>Amount_spent</th>\n",
       "      <th>ROI</th>\n",
       "      <th>Profit</th>\n",
       "    </tr>\n",
       "  </thead>\n",
       "  <tbody>\n",
       "    <tr>\n",
       "      <th>0</th>\n",
       "      <td>230.1</td>\n",
       "      <td>37.8</td>\n",
       "      <td>69.2</td>\n",
       "      <td>221.0</td>\n",
       "      <td>337.1</td>\n",
       "      <td>-34.440819</td>\n",
       "      <td>very unprofitable</td>\n",
       "    </tr>\n",
       "    <tr>\n",
       "      <th>1</th>\n",
       "      <td>44.5</td>\n",
       "      <td>39.3</td>\n",
       "      <td>45.1</td>\n",
       "      <td>104.0</td>\n",
       "      <td>128.9</td>\n",
       "      <td>-19.317300</td>\n",
       "      <td>very unprofitable</td>\n",
       "    </tr>\n",
       "    <tr>\n",
       "      <th>2</th>\n",
       "      <td>17.2</td>\n",
       "      <td>45.9</td>\n",
       "      <td>69.3</td>\n",
       "      <td>93.0</td>\n",
       "      <td>132.4</td>\n",
       "      <td>-29.758308</td>\n",
       "      <td>very unprofitable</td>\n",
       "    </tr>\n",
       "    <tr>\n",
       "      <th>3</th>\n",
       "      <td>151.5</td>\n",
       "      <td>41.3</td>\n",
       "      <td>58.5</td>\n",
       "      <td>185.0</td>\n",
       "      <td>251.3</td>\n",
       "      <td>-26.382809</td>\n",
       "      <td>very unprofitable</td>\n",
       "    </tr>\n",
       "    <tr>\n",
       "      <th>4</th>\n",
       "      <td>180.8</td>\n",
       "      <td>10.8</td>\n",
       "      <td>58.4</td>\n",
       "      <td>129.0</td>\n",
       "      <td>250.0</td>\n",
       "      <td>-48.400000</td>\n",
       "      <td>very unprofitable</td>\n",
       "    </tr>\n",
       "  </tbody>\n",
       "</table>\n",
       "</div>"
      ],
      "text/plain": [
       "   TV_Ad_Budget_($)  Radio_Ad_Budget_($)  Newspaper_Ad_Budget_($)  Sales_($)  \\\n",
       "0             230.1                 37.8                     69.2      221.0   \n",
       "1              44.5                 39.3                     45.1      104.0   \n",
       "2              17.2                 45.9                     69.3       93.0   \n",
       "3             151.5                 41.3                     58.5      185.0   \n",
       "4             180.8                 10.8                     58.4      129.0   \n",
       "\n",
       "   Amount_spent        ROI             Profit  \n",
       "0         337.1 -34.440819  very unprofitable  \n",
       "1         128.9 -19.317300  very unprofitable  \n",
       "2         132.4 -29.758308  very unprofitable  \n",
       "3         251.3 -26.382809  very unprofitable  \n",
       "4         250.0 -48.400000  very unprofitable  "
      ]
     },
     "execution_count": 120,
     "metadata": {},
     "output_type": "execute_result"
    }
   ],
   "source": [
    "def category(roi):\n",
    "    if roi <=-15: return 'very unprofitable'\n",
    "    elif -15< roi <=0: return 'unprofitable'\n",
    "    elif 0 < roi <= 15: return 'profitable'\n",
    "    else: return 'very profitable'\n",
    "    \n",
    "df['Profit'] = df['ROI'].apply(category)\n",
    "\n",
    "df.head() "
   ]
  },
  {
   "cell_type": "code",
   "execution_count": 121,
   "metadata": {},
   "outputs": [
    {
     "data": {
      "text/plain": [
       "<Axes: xlabel='Profit'>"
      ]
     },
     "execution_count": 121,
     "metadata": {},
     "output_type": "execute_result"
    },
    {
     "data": {
      "image/png": "[encoded data removed]",
      "text/plain": [
       "<Figure size 640x480 with 1 Axes>"
      ]
     },
     "metadata": {},
     "output_type": "display_data"
    }
   ],
   "source": [
    "df.groupby('Profit').size().plot(kind=\"bar\")"
   ]
  },
  {
   "cell_type": "markdown",
   "metadata": {},
   "source": [
    "so now we clearly see, that most of campaigns are very unprofitable, and only few of them are more or less profitable. let's find out if these profits can cover that loss "
   ]
  },
  {
   "cell_type": "code",
   "execution_count": 122,
   "metadata": {},
   "outputs": [
    {
     "name": "stdout",
     "output_type": "stream",
     "text": [
      "-12127.099999999999\n"
     ]
    }
   ],
   "source": [
    "balance = df['Sales_($)'].sum() - df['Amount_spent'].sum()\n",
    "print(balance)"
   ]
  },
  {
   "cell_type": "markdown",
   "metadata": {},
   "source": [
    "so after few simple calculations we see that company is in 12 127.1 $ debt"
   ]
  },
  {
   "cell_type": "code",
   "execution_count": 123,
   "metadata": {},
   "outputs": [
    {
     "data": {
      "image/png": "[encoded data removed]",
      "text/plain": [
       "<Figure size 640x480 with 1 Axes>"
      ]
     },
     "metadata": {},
     "output_type": "display_data"
    }
   ],
   "source": [
    "import matplotlib.pyplot as plt\n",
    "\n",
    "total_sum = df['Amount_spent'].sum()\n",
    "sums = [df['TV_Ad_Budget_($)'].sum(), df['Radio_Ad_Budget_($)'].sum(), df['Newspaper_Ad_Budget_($)'].sum()]\n",
    "columns = ['TV Budget', 'Radio Budget', 'Newspaper Budget']\n",
    "\n",
    "plt.pie(sums, labels=columns, autopct='%1.1f%%')\n",
    "plt.title('Distribution of Ad Budget')\n",
    "plt.axis('equal')  # Equal aspect ratio ensures that pie is drawn as a circle.\n",
    "plt.show()\n"
   ]
  },
  {
   "cell_type": "markdown",
   "metadata": {},
   "source": [
    "from that chart we can see that most of the budget was distributed to TV ads"
   ]
  },
  {
   "cell_type": "code",
   "execution_count": 124,
   "metadata": {},
   "outputs": [
    {
     "data": {
      "image/png": "[encoded data removed]",
      "text/plain": [
       "<Figure size 1000x600 with 1 Axes>"
      ]
     },
     "metadata": {},
     "output_type": "display_data"
    }
   ],
   "source": [
    "grouped_data = df.groupby('Profit')[['TV_Ad_Budget_($)', 'Radio_Ad_Budget_($)', 'Newspaper_Ad_Budget_($)']].sum()\n",
    "profit_rates = df['Profit'].unique()\n",
    "\n",
    "fig, ax = plt.subplots(figsize=(10, 6))\n",
    "bar_width = 0.2\n",
    "index = np.arange(len(profit_rates))\n",
    "for i, col in enumerate(grouped_data.columns):\n",
    "    ax.bar(index + i * bar_width, grouped_data[col], bar_width, label=col)\n",
    "\n",
    "ax.set_xlabel('Profit Rate')\n",
    "ax.set_ylabel('Amount Spent')\n",
    "ax.set_title('Amount Spent on Advertising by Profit Rate')\n",
    "ax.set_xticks(index + bar_width)\n",
    "ax.set_xticklabels(profit_rates)\n",
    "ax.legend()\n",
    "\n",
    "plt.tight_layout()\n",
    "plt.show()\n"
   ]
  },
  {
   "cell_type": "markdown",
   "metadata": {},
   "source": [
    "so we got these results and based on them, my advice will be to cut expenses on the TV ads"
   ]
  }
 ],
 "metadata": {
  "kernelspec": {
   "display_name": "Python 3",
   "language": "python",
   "name": "python3"
  },
  "language_info": {
   "codemirror_mode": {
    "name": "ipython",
    "version": 3
   },
   "file_extension": ".py",
   "mimetype": "text/x-python",
   "name": "python",
   "nbconvert_exporter": "python",
   "pygments_lexer": "ipython3",
   "version": "3.11.5"
  }
 },
 "nbformat": 4,
 "nbformat_minor": 2
}
